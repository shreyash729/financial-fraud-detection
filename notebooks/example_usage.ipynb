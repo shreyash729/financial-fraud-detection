import pandas as pd
from src.lambda_handler import lambda_handler

# Load datasets
spam_data = pd.read_csv('../data/spam_messages.csv')
fraud_data = pd.read_csv('../data/fraud_call.tsv', sep='\t')

# Example: Simulate a call
event = {
    "call_recording": "s3://your-bucket/fake_call.wav"
}
result = lambda_handler(event, None)
print(f"Fraud Detected: {result['body']['is_fraud']}")
